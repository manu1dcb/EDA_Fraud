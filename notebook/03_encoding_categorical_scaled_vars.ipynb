{
 "cells": [
  {
   "cell_type": "markdown",
   "id": "435f0431",
   "metadata": {},
   "source": [
    "### Codificación de las variables categoricas, escalado y modelo"
   ]
  },
  {
   "cell_type": "code",
   "execution_count": 1,
   "id": "b464e127",
   "metadata": {},
   "outputs": [],
   "source": [
    "import pandas as pd \n",
    "import numpy as np\n",
    "import sklearn\n",
    "from sklearn.pipeline import Pipeline\n",
    "from sklearn import metrics\n",
    "# conda install category_encoders\n",
    "import category_encoders as ce\n",
    "from sklearn.preprocessing import OneHotEncoder\n",
    "from sklearn.ensemble import GradientBoostingClassifier\n",
    "import matplotlib.pyplot as plt\n",
    "import seaborn as sns\n",
    "from sklearn.ensemble import RandomForestClassifier, AdaBoostClassifier\n",
    "from sklearn.preprocessing import StandardScaler\n",
    "\n",
    "from sklearn.metrics import classification_report, confusion_matrix, roc_curve, auc, \\\n",
    "                            silhouette_score, recall_score, precision_score, make_scorer, \\\n",
    "                            roc_auc_score, f1_score, precision_recall_curve, accuracy_score, roc_auc_score, \\\n",
    "                            classification_report, confusion_matrix\n",
    "\n",
    "from sklearn import metrics\n",
    "from sklearn.metrics import plot_confusion_matrix"
   ]
  },
  {
   "cell_type": "code",
   "execution_count": 2,
   "id": "d5a48e34",
   "metadata": {},
   "outputs": [],
   "source": [
    "df_fraud_train = pd.read_csv(\"../data/train_pd_data_preprocessing_missing_outlier.csv\")\n",
    "df_fraud_test  = pd.read_csv(\"../data/test_pd_data_preprocessing_missing_outlier.csv\")"
   ]
  },
  {
   "cell_type": "code",
   "execution_count": 3,
   "id": "c4b43397",
   "metadata": {},
   "outputs": [
    {
     "data": {
      "text/plain": [
       "Index(['Unnamed: 0.1', 'Unnamed: 0', 'customer_age', 'payment_type',\n",
       "       'zip_count_4w', 'bank_branch_count_8w',\n",
       "       'date_of_birth_distinct_emails_4w', 'employment_status',\n",
       "       'credit_risk_score', 'email_is_free', 'housing_status',\n",
       "       'phone_home_valid', 'phone_mobile_valid', 'has_other_cards',\n",
       "       'foreign_request', 'source', 'device_os', 'keep_alive_session',\n",
       "       'device_fraud_count', 'month', 'fraud_bool',\n",
       "       'proposed_credit_limit_input', 'prev_address_months_count_input',\n",
       "       'session_length_in_minutes_input', 'velocity_24h_input',\n",
       "       'bank_months_count_input', 'current_address_months_count_input',\n",
       "       'income_input', 'velocity_6h_input', 'intended_balcon_amount_input',\n",
       "       'velocity_4w_input', 'days_since_request_input',\n",
       "       'device_distinct_emails_8w_input', 'name_email_similarity_input'],\n",
       "      dtype='object')"
      ]
     },
     "execution_count": 3,
     "metadata": {},
     "output_type": "execute_result"
    }
   ],
   "source": [
    "df_fraud_train.columns\n"
   ]
  },
  {
   "cell_type": "code",
   "execution_count": 4,
   "id": "c5334268",
   "metadata": {},
   "outputs": [
    {
     "data": {
      "text/plain": [
       "Unnamed: 0.1                            int64\n",
       "Unnamed: 0                              int64\n",
       "customer_age                            int64\n",
       "payment_type                           object\n",
       "zip_count_4w                            int64\n",
       "bank_branch_count_8w                    int64\n",
       "date_of_birth_distinct_emails_4w        int64\n",
       "employment_status                      object\n",
       "credit_risk_score                       int64\n",
       "email_is_free                           int64\n",
       "housing_status                         object\n",
       "phone_home_valid                        int64\n",
       "phone_mobile_valid                      int64\n",
       "has_other_cards                         int64\n",
       "foreign_request                         int64\n",
       "source                                 object\n",
       "device_os                              object\n",
       "keep_alive_session                      int64\n",
       "device_fraud_count                      int64\n",
       "month                                   int64\n",
       "fraud_bool                              int64\n",
       "proposed_credit_limit_input           float64\n",
       "prev_address_months_count_input       float64\n",
       "session_length_in_minutes_input       float64\n",
       "velocity_24h_input                    float64\n",
       "bank_months_count_input               float64\n",
       "current_address_months_count_input    float64\n",
       "income_input                          float64\n",
       "velocity_6h_input                     float64\n",
       "intended_balcon_amount_input          float64\n",
       "velocity_4w_input                     float64\n",
       "days_since_request_input              float64\n",
       "device_distinct_emails_8w_input       float64\n",
       "name_email_similarity_input           float64\n",
       "dtype: object"
      ]
     },
     "execution_count": 4,
     "metadata": {},
     "output_type": "execute_result"
    }
   ],
   "source": [
    "df_fraud_train.dtypes"
   ]
  },
  {
   "cell_type": "markdown",
   "id": "5ff3b8e8",
   "metadata": {},
   "source": [
    "### Codificación de la variable objetivo"
   ]
  },
  {
   "cell_type": "code",
   "execution_count": 5,
   "id": "287334ae",
   "metadata": {
    "scrolled": true
   },
   "outputs": [
    {
     "data": {
      "text/plain": [
       "0    791177\n",
       "1      8823\n",
       "Name: fraud_bool, dtype: int64"
      ]
     },
     "execution_count": 5,
     "metadata": {},
     "output_type": "execute_result"
    }
   ],
   "source": [
    "df_fraud_train['fraud_bool'].value_counts()"
   ]
  },
  {
   "cell_type": "markdown",
   "id": "e6459af2",
   "metadata": {},
   "source": [
    "Observamos que hay 791.177 instancias de 'Legit' y8823200 instancias de 'Fraud'."
   ]
  },
  {
   "cell_type": "code",
   "execution_count": 6,
   "id": "5a6ce07b",
   "metadata": {},
   "outputs": [],
   "source": [
    "df_fraud_train['fraud_bool'].fillna(0, inplace=True)  # Reemplazar NaN con 0\n",
    "df_fraud_train['fraud_bool'] = df_fraud_train['fraud_bool'].replace([np.inf, -np.inf], 0)  # Reemplazar inf con 0\n",
    "\n",
    "# 2. Convertir la columna a tipo entero\n",
    "df_fraud_train['fraud_bool'] = df_fraud_train['fraud_bool'].astype(int)"
   ]
  },
  {
   "cell_type": "code",
   "execution_count": 7,
   "id": "7c66d649",
   "metadata": {},
   "outputs": [
    {
     "data": {
      "text/plain": [
       "0    791177\n",
       "1      8823\n",
       "Name: fraud_bool, dtype: int64"
      ]
     },
     "execution_count": 7,
     "metadata": {},
     "output_type": "execute_result"
    }
   ],
   "source": [
    "df_fraud_train['fraud_bool'].value_counts()\n"
   ]
  },
  {
   "cell_type": "code",
   "execution_count": 8,
   "id": "dfe59352",
   "metadata": {},
   "outputs": [],
   "source": [
    "X_train = df_fraud_train.drop('fraud_bool',axis=1)\n",
    "X_test = df_fraud_test.drop('fraud_bool',axis=1)\n",
    "y_train = df_fraud_train['fraud_bool']\n",
    "y_test = df_fraud_test['fraud_bool']"
   ]
  },
  {
   "cell_type": "markdown",
   "id": "79c677fe",
   "metadata": {},
   "source": [
    "### Codificación del resto de variables categoricas\n"
   ]
  },
  {
   "cell_type": "markdown",
   "id": "5bae95c8",
   "metadata": {},
   "source": [
    "Hemos codificado las variables categóricas con one-hot-encoding. De esta formas estarán clasificadas con valores numéricos (1, 2, 3, etc.) en función de la categoría en la que se encuentre."
   ]
  },
  {
   "cell_type": "code",
   "execution_count": 9,
   "id": "51d6d32f",
   "metadata": {},
   "outputs": [],
   "source": [
    "list_columns_cat = list(X_train.select_dtypes(\"object\", \"category\").columns)\n",
    "list_other = list(set(X_train.columns)-set(list_columns_cat))"
   ]
  },
  {
   "cell_type": "code",
   "execution_count": 10,
   "id": "0a5d6e6f",
   "metadata": {},
   "outputs": [],
   "source": [
    "ohe = ce.OneHotEncoder(cols=list_columns_cat)\n",
    "model = ohe.fit(X_train, y_train)"
   ]
  },
  {
   "cell_type": "code",
   "execution_count": 11,
   "id": "f8147f94",
   "metadata": {},
   "outputs": [
    {
     "data": {
      "text/html": [
       "<style>#sk-container-id-1 {color: black;background-color: white;}#sk-container-id-1 pre{padding: 0;}#sk-container-id-1 div.sk-toggleable {background-color: white;}#sk-container-id-1 label.sk-toggleable__label {cursor: pointer;display: block;width: 100%;margin-bottom: 0;padding: 0.3em;box-sizing: border-box;text-align: center;}#sk-container-id-1 label.sk-toggleable__label-arrow:before {content: \"▸\";float: left;margin-right: 0.25em;color: #696969;}#sk-container-id-1 label.sk-toggleable__label-arrow:hover:before {color: black;}#sk-container-id-1 div.sk-estimator:hover label.sk-toggleable__label-arrow:before {color: black;}#sk-container-id-1 div.sk-toggleable__content {max-height: 0;max-width: 0;overflow: hidden;text-align: left;background-color: #f0f8ff;}#sk-container-id-1 div.sk-toggleable__content pre {margin: 0.2em;color: black;border-radius: 0.25em;background-color: #f0f8ff;}#sk-container-id-1 input.sk-toggleable__control:checked~div.sk-toggleable__content {max-height: 200px;max-width: 100%;overflow: auto;}#sk-container-id-1 input.sk-toggleable__control:checked~label.sk-toggleable__label-arrow:before {content: \"▾\";}#sk-container-id-1 div.sk-estimator input.sk-toggleable__control:checked~label.sk-toggleable__label {background-color: #d4ebff;}#sk-container-id-1 div.sk-label input.sk-toggleable__control:checked~label.sk-toggleable__label {background-color: #d4ebff;}#sk-container-id-1 input.sk-hidden--visually {border: 0;clip: rect(1px 1px 1px 1px);clip: rect(1px, 1px, 1px, 1px);height: 1px;margin: -1px;overflow: hidden;padding: 0;position: absolute;width: 1px;}#sk-container-id-1 div.sk-estimator {font-family: monospace;background-color: #f0f8ff;border: 1px dotted black;border-radius: 0.25em;box-sizing: border-box;margin-bottom: 0.5em;}#sk-container-id-1 div.sk-estimator:hover {background-color: #d4ebff;}#sk-container-id-1 div.sk-parallel-item::after {content: \"\";width: 100%;border-bottom: 1px solid gray;flex-grow: 1;}#sk-container-id-1 div.sk-label:hover label.sk-toggleable__label {background-color: #d4ebff;}#sk-container-id-1 div.sk-serial::before {content: \"\";position: absolute;border-left: 1px solid gray;box-sizing: border-box;top: 0;bottom: 0;left: 50%;z-index: 0;}#sk-container-id-1 div.sk-serial {display: flex;flex-direction: column;align-items: center;background-color: white;padding-right: 0.2em;padding-left: 0.2em;position: relative;}#sk-container-id-1 div.sk-item {position: relative;z-index: 1;}#sk-container-id-1 div.sk-parallel {display: flex;align-items: stretch;justify-content: center;background-color: white;position: relative;}#sk-container-id-1 div.sk-item::before, #sk-container-id-1 div.sk-parallel-item::before {content: \"\";position: absolute;border-left: 1px solid gray;box-sizing: border-box;top: 0;bottom: 0;left: 50%;z-index: -1;}#sk-container-id-1 div.sk-parallel-item {display: flex;flex-direction: column;z-index: 1;position: relative;background-color: white;}#sk-container-id-1 div.sk-parallel-item:first-child::after {align-self: flex-end;width: 50%;}#sk-container-id-1 div.sk-parallel-item:last-child::after {align-self: flex-start;width: 50%;}#sk-container-id-1 div.sk-parallel-item:only-child::after {width: 0;}#sk-container-id-1 div.sk-dashed-wrapped {border: 1px dashed gray;margin: 0 0.4em 0.5em 0.4em;box-sizing: border-box;padding-bottom: 0.4em;background-color: white;}#sk-container-id-1 div.sk-label label {font-family: monospace;font-weight: bold;display: inline-block;line-height: 1.2em;}#sk-container-id-1 div.sk-label-container {text-align: center;}#sk-container-id-1 div.sk-container {/* jupyter's `normalize.less` sets `[hidden] { display: none; }` but bootstrap.min.css set `[hidden] { display: none !important; }` so we also need the `!important` here to be able to override the default hidden behavior on the sphinx rendered scikit-learn.org. See: https://github.com/scikit-learn/scikit-learn/issues/21755 */display: inline-block !important;position: relative;}#sk-container-id-1 div.sk-text-repr-fallback {display: none;}</style><div id=\"sk-container-id-1\" class=\"sk-top-container\"><div class=\"sk-text-repr-fallback\"><pre>OneHotEncoder(cols=[&#x27;payment_type&#x27;, &#x27;employment_status&#x27;, &#x27;housing_status&#x27;,\n",
       "                    &#x27;source&#x27;, &#x27;device_os&#x27;])</pre><b>In a Jupyter environment, please rerun this cell to show the HTML representation or trust the notebook. <br />On GitHub, the HTML representation is unable to render, please try loading this page with nbviewer.org.</b></div><div class=\"sk-container\" hidden><div class=\"sk-item\"><div class=\"sk-estimator sk-toggleable\"><input class=\"sk-toggleable__control sk-hidden--visually\" id=\"sk-estimator-id-1\" type=\"checkbox\" checked><label for=\"sk-estimator-id-1\" class=\"sk-toggleable__label sk-toggleable__label-arrow\">OneHotEncoder</label><div class=\"sk-toggleable__content\"><pre>OneHotEncoder(cols=[&#x27;payment_type&#x27;, &#x27;employment_status&#x27;, &#x27;housing_status&#x27;,\n",
       "                    &#x27;source&#x27;, &#x27;device_os&#x27;])</pre></div></div></div></div></div>"
      ],
      "text/plain": [
       "OneHotEncoder(cols=['payment_type', 'employment_status', 'housing_status',\n",
       "                    'source', 'device_os'])"
      ]
     },
     "execution_count": 11,
     "metadata": {},
     "output_type": "execute_result"
    }
   ],
   "source": [
    "model"
   ]
  },
  {
   "cell_type": "code",
   "execution_count": 12,
   "id": "a84740d1",
   "metadata": {},
   "outputs": [],
   "source": [
    "X_train_t = model.transform(X_train, y_train)\n",
    "X_test_t = model.transform(X_test, y_test)"
   ]
  },
  {
   "cell_type": "code",
   "execution_count": 13,
   "id": "a6763da7",
   "metadata": {},
   "outputs": [
    {
     "data": {
      "text/plain": [
       "54"
      ]
     },
     "execution_count": 13,
     "metadata": {},
     "output_type": "execute_result"
    }
   ],
   "source": [
    "len(list(X_train_t.columns))"
   ]
  },
  {
   "cell_type": "code",
   "execution_count": 14,
   "id": "2632e7d8",
   "metadata": {},
   "outputs": [
    {
     "data": {
      "text/plain": [
       "{'Unnamed: 0.1': dtype('int64'),\n",
       " 'Unnamed: 0': dtype('int64'),\n",
       " 'customer_age': dtype('int64'),\n",
       " 'payment_type_1': dtype('int64'),\n",
       " 'payment_type_2': dtype('int64'),\n",
       " 'payment_type_3': dtype('int64'),\n",
       " 'payment_type_4': dtype('int64'),\n",
       " 'payment_type_5': dtype('int64'),\n",
       " 'zip_count_4w': dtype('int64'),\n",
       " 'bank_branch_count_8w': dtype('int64'),\n",
       " 'date_of_birth_distinct_emails_4w': dtype('int64'),\n",
       " 'employment_status_1': dtype('int64'),\n",
       " 'employment_status_2': dtype('int64'),\n",
       " 'employment_status_3': dtype('int64'),\n",
       " 'employment_status_4': dtype('int64'),\n",
       " 'employment_status_5': dtype('int64'),\n",
       " 'employment_status_6': dtype('int64'),\n",
       " 'employment_status_7': dtype('int64'),\n",
       " 'credit_risk_score': dtype('int64'),\n",
       " 'email_is_free': dtype('int64'),\n",
       " 'housing_status_1': dtype('int64'),\n",
       " 'housing_status_2': dtype('int64'),\n",
       " 'housing_status_3': dtype('int64'),\n",
       " 'housing_status_4': dtype('int64'),\n",
       " 'housing_status_5': dtype('int64'),\n",
       " 'housing_status_6': dtype('int64'),\n",
       " 'housing_status_7': dtype('int64'),\n",
       " 'phone_home_valid': dtype('int64'),\n",
       " 'phone_mobile_valid': dtype('int64'),\n",
       " 'has_other_cards': dtype('int64'),\n",
       " 'foreign_request': dtype('int64'),\n",
       " 'source_1': dtype('int64'),\n",
       " 'source_2': dtype('int64'),\n",
       " 'device_os_1': dtype('int64'),\n",
       " 'device_os_2': dtype('int64'),\n",
       " 'device_os_3': dtype('int64'),\n",
       " 'device_os_4': dtype('int64'),\n",
       " 'device_os_5': dtype('int64'),\n",
       " 'keep_alive_session': dtype('int64'),\n",
       " 'device_fraud_count': dtype('int64'),\n",
       " 'month': dtype('int64'),\n",
       " 'proposed_credit_limit_input': dtype('float64'),\n",
       " 'prev_address_months_count_input': dtype('float64'),\n",
       " 'session_length_in_minutes_input': dtype('float64'),\n",
       " 'velocity_24h_input': dtype('float64'),\n",
       " 'bank_months_count_input': dtype('float64'),\n",
       " 'current_address_months_count_input': dtype('float64'),\n",
       " 'income_input': dtype('float64'),\n",
       " 'velocity_6h_input': dtype('float64'),\n",
       " 'intended_balcon_amount_input': dtype('float64'),\n",
       " 'velocity_4w_input': dtype('float64'),\n",
       " 'days_since_request_input': dtype('float64'),\n",
       " 'device_distinct_emails_8w_input': dtype('float64'),\n",
       " 'name_email_similarity_input': dtype('float64')}"
      ]
     },
     "execution_count": 14,
     "metadata": {},
     "output_type": "execute_result"
    }
   ],
   "source": [
    "X_train_t.dtypes.to_dict()\n"
   ]
  }
 ],
 "metadata": {
  "kernelspec": {
   "display_name": "Python 3 (ipykernel)",
   "language": "python",
   "name": "python3"
  },
  "language_info": {
   "codemirror_mode": {
    "name": "ipython",
    "version": 3
   },
   "file_extension": ".py",
   "mimetype": "text/x-python",
   "name": "python",
   "nbconvert_exporter": "python",
   "pygments_lexer": "ipython3",
   "version": "3.11.4"
  }
 },
 "nbformat": 4,
 "nbformat_minor": 5
}
